{
 "cells": [
  {
   "cell_type": "code",
   "execution_count": 5,
   "metadata": {},
   "outputs": [],
   "source": [
    "#import necessary packages\n",
    "\n",
    "import numpy as np\n",
    "import pandas as pd"
   ]
  },
  {
   "cell_type": "code",
   "execution_count": 6,
   "metadata": {},
   "outputs": [],
   "source": [
    "#load the data\n",
    "\n",
    "agency = pd.read_csv('data/agency.txt')\n",
    "cal_dates = pd.read_csv('data/calendar_dates.txt')\n",
    "calendar = pd.read_csv('data/calendar.txt')\n",
    "fare_attr = pd.read_csv('data/fare_attributes.txt')\n",
    "fare_rules = pd.read_csv('data/fare_rules.txt')\n",
    "feed_info = pd.read_csv('data/feed_info.txt')\n",
    "frequencies = pd.read_csv('data/frequencies.txt')\n",
    "routes = pd.read_csv('data/routes.txt')\n",
    "stop_times = pd.read_csv('data/stop_times.txt')\n",
    "stops = pd.read_csv('data/stops.txt')\n",
    "transfers = pd.read_csv('data/transfers.txt')\n",
    "trips = pd.read_csv('data/trips.txt')\n",
    "teste =pd.read_csv('data/text.txt') "
   ]
  },
  {
   "cell_type": "code",
   "execution_count": 7,
   "metadata": {},
   "outputs": [],
   "source": [
    "# this is the \"motherload\". This is the schedule for each trip and will help us make the schedule at each \n",
    "# station for each day. \n",
    "\n",
    "stop_times = stop_times.drop(columns=['pickup_type','drop_off_type','shape_dist_traveled'])\n",
    "stops = stops.drop(columns=['stop_desc','stop_url','zone_id','location_type'])"
   ]
  },
  {
   "cell_type": "code",
   "execution_count": 40,
   "metadata": {},
   "outputs": [],
   "source": [
    "single_line_stations = [\n",
    "    \"AF\", \"AH\", \"AL\", \"AS\", \"AX\", \"AN\", \"AE\", \"AR\", \"AV\", \n",
    "    \"BV\", \"CR\", \"CS\", \"CP\", \"CA\", \"CH\", \"CU\", \"CM\", \"EC\", \n",
    "    \"IN\", \"JZ\", \"LA\", \"LU\", \"MP\", \"MM\", \"OD\", \"OL\", \"OS\", \n",
    "    \"OR\", \"PA\", \"PI\", \"PO\", \"PE\", \"QC\", \"RA\", \"RE\", \"RM\", \n",
    "    \"RO\", \"SP\",  \"SR\", \"TE\", \"TP\", \"MO\", \"EN\", \"AP\", \"RB\"\n",
    "]\n",
    "\n",
    "unique_directions = stop_times[\"stop_headsign\"].unique()\n",
    "\n",
    "# Function to modify stop_id for single-line stations\n",
    "def modify_stop_times(row):\n",
    "    if row[\"stop_id\"] in single_line_stations:\n",
    "        direction = row[\"stop_headsign\"].replace(\" \", \"_\")  # Extract direction\n",
    "        row[\"stop_id\"] = f\"{row['stop_id']}_{direction}\"  # Append direction\n",
    "    return row\n",
    "\n",
    "# Apply modification\n",
    "stop_times = stop_times.apply(modify_stop_times, axis=1)\n",
    "\n",
    "# 2️ Modify `stops` to match the new stop_ids created in `stop_times`\n",
    "stops_expanded = []\n",
    "for _, row in stops.iterrows():\n",
    "    if row[\"stop_id\"] in single_line_stations:\n",
    "        for direction in unique_directions:\n",
    "            stops_expanded.append(row.to_dict() | {\"stop_id\": f\"{row['stop_id']}_{direction.replace(' ', '_')}\"})\n",
    "    else:\n",
    "        stops_expanded.append(row.to_dict())\n",
    "\n",
    "stops = pd.DataFrame(stops_expanded)  # Convert expanded list back to DataFram\n",
    "\n",
    "# 3️ Merge the modified `stops` and `stop_times`\n",
    "result = pd.merge(stops, stop_times, on=\"stop_id\", how=\"inner\")\n",
    "\n",
    "\n",
    "# 4️ Group by stop_id & stop_headsign to separate schedules per direction\n",
    "grouped_result = result.groupby([\"stop_id\", \"stop_headsign\"]).agg({\n",
    "    \"arrival_time\": list,\n",
    "}).reset_index()\n",
    "\n",
    "grouped_result = grouped_result.sort_values('stop_headsign')\n",
    "\n",
    "#creating a single file that combines the stations with the trains that pass through them\n",
    "grouped_result.to_csv(\"grouped_result_fixed.txt\", sep=\"\\t\", index=False)\n",
    "\n",
    "#Just missing the end line stations that instead of having arrival time will have departure time\n",
    "\n"
   ]
  }
 ],
 "metadata": {
  "kernelspec": {
   "display_name": "gps2005",
   "language": "python",
   "name": "python3"
  },
  "language_info": {
   "codemirror_mode": {
    "name": "ipython",
    "version": 3
   },
   "file_extension": ".py",
   "mimetype": "text/x-python",
   "name": "python",
   "nbconvert_exporter": "python",
   "pygments_lexer": "ipython3",
   "version": "3.13.1"
  }
 },
 "nbformat": 4,
 "nbformat_minor": 2
}
