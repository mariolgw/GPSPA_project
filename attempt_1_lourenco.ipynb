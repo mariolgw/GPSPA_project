{
 "cells": [
  {
   "cell_type": "code",
   "execution_count": 1,
   "metadata": {},
   "outputs": [],
   "source": [
    "#import necessary packages\n",
    "\n",
    "import pandas as pd"
   ]
  },
  {
   "cell_type": "code",
   "execution_count": 9,
   "metadata": {},
   "outputs": [],
   "source": [
    "#load the data\n",
    "\n",
    "agency = pd.read_csv('data/agency.txt')\n",
    "cal_dates = pd.read_csv('data/calendar_dates.txt')\n",
    "calendar = pd.read_csv('data/calendar.txt')\n",
    "fare_attr = pd.read_csv('data/fare_attributes.txt')\n",
    "fare_rules = pd.read_csv('data/fare_rules.txt')\n",
    "feed_info = pd.read_csv('data/feed_info.txt')\n",
    "frequencies = pd.read_csv('data/frequencies.txt')\n",
    "routes = pd.read_csv('data/routes.txt')\n",
    "stop_times = pd.read_csv('data/stop_times.txt')\n",
    "stops = pd.read_csv('data/stops.txt')\n",
    "transfers = pd.read_csv('data/transfers.txt')\n",
    "trips = pd.read_csv('data/trips.txt')"
   ]
  },
  {
   "cell_type": "code",
   "execution_count": null,
   "metadata": {},
   "outputs": [
    {
     "name": "stdout",
     "output_type": "stream",
     "text": [
      "File saved successfully to ETL/data/stop_times_modified.txt\n"
     ]
    }
   ],
   "source": [
    "import os\n",
    "\n",
    "input_file = 'data/stop_times.txt'\n",
    "output_file = 'ETL/data/stop_times_modified.txt'\n",
    "\n",
    "# Ensure the output directory exists\n",
    "os.makedirs(os.path.dirname(output_file), exist_ok=True)\n",
    "\n",
    "# Columns to remove\n",
    "columns_to_remove = ['departure_time', 'pickup_type', 'drop_off_type', 'stop_sequence', 'shape_dist_traveled']\n",
    "\n",
    "with open(input_file, 'r') as infile, open(output_file, 'w') as outfile:\n",
    "    # Read the header line\n",
    "    header = infile.readline().strip().split(',')\n",
    "    \n",
    "    # Determine the indices of the columns to remove\n",
    "    indices_to_remove = [header.index(col) for col in columns_to_remove]\n",
    "    \n",
    "    # Write the modified header to the output file\n",
    "    modified_header = [col for i, col in enumerate(header) if i not in indices_to_remove]\n",
    "    outfile.write(','.join(modified_header) + '\\n')\n",
    "    \n",
    "    # Process each line in the input file\n",
    "    for line in infile:\n",
    "        fields = line.strip().split(',')\n",
    "        modified_fields = [field for i, field in enumerate(fields) if i not in indices_to_remove]\n",
    "        outfile.write(','.join(modified_fields) + '\\n')\n",
    "\n",
    "print(f\"File saved successfully to {output_file}\")"
   ]
  }
 ],
 "metadata": {
  "kernelspec": {
   "display_name": "gps2005",
   "language": "python",
   "name": "python3"
  },
  "language_info": {
   "codemirror_mode": {
    "name": "ipython",
    "version": 3
   },
   "file_extension": ".py",
   "mimetype": "text/x-python",
   "name": "python",
   "nbconvert_exporter": "python",
   "pygments_lexer": "ipython3",
   "version": "3.13.1"
  }
 },
 "nbformat": 4,
 "nbformat_minor": 2
}
